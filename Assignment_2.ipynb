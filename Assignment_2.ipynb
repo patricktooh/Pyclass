{
  "nbformat": 4,
  "nbformat_minor": 0,
  "metadata": {
    "colab": {
      "name": "Assignment#2.ipynb",
      "provenance": [],
      "collapsed_sections": [],
      "authorship_tag": "ABX9TyP3kTZwb+ZYs/2ixhXineux",
      "include_colab_link": true
    },
    "kernelspec": {
      "name": "python3",
      "display_name": "Python 3"
    },
    "language_info": {
      "name": "python"
    }
  },
  "cells": [
    {
      "cell_type": "markdown",
      "metadata": {
        "id": "view-in-github",
        "colab_type": "text"
      },
      "source": [
        "<a href=\"https://colab.research.google.com/github/patricktooh/Pyclass/blob/main/Assignment_2.ipynb\" target=\"_parent\"><img src=\"https://colab.research.google.com/assets/colab-badge.svg\" alt=\"Open In Colab\"/></a>"
      ]
    },
    {
      "cell_type": "code",
      "metadata": {
        "colab": {
          "base_uri": "https://localhost:8080/"
        },
        "id": "Kugx8WEBO34i",
        "outputId": "172300ac-8faf-4cb7-b318-77b379cf43f6"
      },
      "source": [
        "Fullnames=input(\"Names:\")\n",
        "CountryOfOrigin=input(\"Country:\")\n",
        "CurrentJob=input(\"Proffession:\")\n",
        "EmailAddress=input(\"Email:\")\n",
        "PhoneNumber=input(\"Phone:\")\n",
        "CityOfResidence=input(\"City:\")\n",
        "PhysicalAddress=input(\"Address:\")\n",
        "\n",
        "\n",
        "Bio=(Fullnames+ \" \" +CountryOfOrigin + \" \" +CurrentJob + \" \"+EmailAddress +\" \"+ PhoneNumber +\" \"+ CityOfResidence + \" \"+PhysicalAddress)\n",
        "\n",
        "print(Bio)\n",
        "\n"
      ],
      "execution_count": 9,
      "outputs": [
        {
          "output_type": "stream",
          "text": [
            "Names:James Nafula\n",
            "Country:Kenya\n",
            "Proffession:Plumber\n",
            "Email:Plumber@gmail.com\n",
            "Phone:+254700321456\n",
            "City:Kakamega\n",
            "Address:Luthuli Avenue\n",
            "James Nafula Kenya Plumber Plumber@gmail.com +254700321456 Kakamega Luthuli Avenue\n"
          ],
          "name": "stdout"
        }
      ]
    },
    {
      "cell_type": "code",
      "metadata": {
        "id": "TiKFKuXXOyYS"
      },
      "source": [
        ""
      ],
      "execution_count": 3,
      "outputs": []
    }
  ]
}