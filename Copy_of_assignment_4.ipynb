{
  "nbformat": 4,
  "nbformat_minor": 0,
  "metadata": {
    "colab": {
      "name": "Copy of  assignment#4.ipynb",
      "provenance": [],
      "authorship_tag": "ABX9TyPkAsEga7PFos/E//6LfnFm",
      "include_colab_link": true
    },
    "kernelspec": {
      "name": "python3",
      "display_name": "Python 3"
    },
    "language_info": {
      "name": "python"
    }
  },
  "cells": [
    {
      "cell_type": "markdown",
      "metadata": {
        "id": "view-in-github",
        "colab_type": "text"
      },
      "source": [
        "<a href=\"https://colab.research.google.com/github/patricktooh/Pyclass/blob/readme-edits/Copy_of_assignment_4.ipynb\" target=\"_parent\"><img src=\"https://colab.research.google.com/assets/colab-badge.svg\" alt=\"Open In Colab\"/></a>"
      ]
    },
    {
      "cell_type": "code",
      "metadata": {
        "id": "8kp1WtIlFjcF",
        "colab": {
          "base_uri": "https://localhost:8080/"
        },
        "outputId": "e1b163ff-40a0-4678-c576-0eeaf3833e6b"
      },
      "source": [
        "#Enter the price of the House you wish to Buy\n",
        "print(\"Enter the house price\")\n",
        "price = float(input())\n",
        "#Enter the credit score\n",
        "print(\"Enter the credit score\")\n",
        "CreditScore = int(input())\n",
        "#Enter the first name\n",
        "print(\"Enter the first name\")\n",
        "first_name = input()\n",
        "#Enter the last name\n",
        "print(\"Enter the last name\")\n",
        "last_name = input()\n",
        "fullnames = first_name + \" \" + last_name\n",
        "#Enter the email\n",
        "print(\"Enter the email address\")\n",
        "email = input()\n",
        "#Enter the phone number\n",
        "print(\"Enter the phone number\")\n",
        "phone = input()\n",
        "#Enter the mailing\n",
        "print(\"Enter the mailing address\")\n",
        "mailing = input()\n",
        "#Enter the mailing\n",
        "print(\"Enter the City\")\n",
        "city = input()\n",
        "#Enter the mailing\n",
        "print(\"Enter the zip code\")\n",
        "zipcode = input()\n",
        "#Qualify for loans with the best interest rates\n",
        "if 780< CreditScore <850:\n",
        "    print(\"Excent Credit\")\n",
        "    print(\"Zero Down Payment\")\n",
        "    downPayment = 0.0 *price\n",
        "    print(downPayment)\n",
        "#Usually qualify for loans with the best interest rates\n",
        "elif 740< CreditScore <779:\n",
        "    print(\"Very Good\")\n",
        "    downPayment = 0.2 * price\n",
        "    print(downPayment)\n",
        "#May face slightly higher loan Interest rates\n",
        "elif 720< CreditScore <739:\n",
        "    print(\"Above Average\")\n",
        "    downPayment = 0.3 * price\n",
        "    print(downpayment)\n",
        "#May qualify for most loans of higher interest rates\n",
        "elif 680< CreditScore <719:\n",
        "    print(\"Average\")\n",
        "    downPayment = 0.6 * price\n",
        "    print(downPayment)\n",
        "#May qualify for most loans at significant higher Interest rates\n",
        "elif 620< CreditScore <=679:\n",
        "    print(\"Below Average\")\n",
        "    downPayment = 0.18 * price\n",
        "    print(downPayment)\n",
        "#Usually has some credit issues; will probably not qualify for most loans\n",
        "elif 580< CreditScore <619:\n",
        "    print(\"Poor Credit Score\")\n",
        "    downPayment = 0.20 * price\n",
        "    print(downPayment)\n",
        "#Facing extreme credit issue\n",
        "elif CreditScore < 520:\n",
        "    print(\"Poor Credit Score\")\n",
        "    downPayment = 0.25 * price\n",
        "    print(downPayment)\n",
        "    \n",
        "\n",
        "\n",
        "    "
      ],
      "execution_count": 6,
      "outputs": [
        {
          "output_type": "stream",
          "text": [
            "Enter the house price\n",
            "245000.00\n",
            "Enter the credit score\n",
            "679\n",
            "Enter the first name\n",
            "Thiery\n",
            "Enter the last name\n",
            "Henry\n",
            "Enter the email address\n",
            "python@gmail.com\n",
            "Enter the phone number\n",
            "+24365789\n",
            "Enter the mailing address\n",
            "12th Steet, Ngong\n",
            "Enter the City\n",
            "Kibera\n",
            "Enter the zip code\n",
            "00900\n",
            "Below Average\n",
            "44100.0\n"
          ],
          "name": "stdout"
        }
      ]
    }
  ]
}